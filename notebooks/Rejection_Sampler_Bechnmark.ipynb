{
 "cells": [
  {
   "cell_type": "code",
   "execution_count": 4,
   "id": "6e6c6f04-4c34-447a-97bd-657ff921a973",
   "metadata": {},
   "outputs": [],
   "source": [
    "# Automatically reloads modules before executing code.\n",
    "# This ensures that any changes made to imported Python files (e.g. .py modules) \n",
    "# are reflected in the notebook without needing to restart the kernel.\n",
    "\n",
    "%load_ext autoreload\n",
    "%autoreload 2"
   ]
  },
  {
   "cell_type": "code",
   "execution_count": 15,
   "id": "24457861-71e9-43c5-97dd-11cd12d289e6",
   "metadata": {},
   "outputs": [],
   "source": [
    "import os\n",
    "import sys\n",
    "import time\n",
    "import numpy as np\n",
    "import matplotlib.pyplot as plt\n",
    "from samplers.rejection_sampler import *"
   ]
  },
  {
   "cell_type": "code",
   "execution_count": 14,
   "id": "7f5e358f-49cc-427e-8a23-91490bd87271",
   "metadata": {},
   "outputs": [
    {
     "ename": "TypeError",
     "evalue": "rejection_sampling_uniform() missing 4 required positional arguments: 'f', 'xmin', 'xmax', and 'N'",
     "output_type": "error",
     "traceback": [
      "\u001b[31m---------------------------------------------------------------------------\u001b[39m",
      "\u001b[31mTypeError\u001b[39m                                 Traceback (most recent call last)",
      "\u001b[36mCell\u001b[39m\u001b[36m \u001b[39m\u001b[32mIn[14]\u001b[39m\u001b[32m, line 1\u001b[39m\n\u001b[32m----> \u001b[39m\u001b[32m1\u001b[39m \u001b[43mrejection_sampling_uniform\u001b[49m\u001b[43m(\u001b[49m\u001b[43m)\u001b[49m\n",
      "\u001b[31mTypeError\u001b[39m: rejection_sampling_uniform() missing 4 required positional arguments: 'f', 'xmin', 'xmax', and 'N'"
     ]
    }
   ],
   "source": [
    "def "
   ]
  }
 ],
 "metadata": {
  "kernelspec": {
   "display_name": "Python 3 (ipykernel)",
   "language": "python",
   "name": "python3"
  },
  "language_info": {
   "codemirror_mode": {
    "name": "ipython",
    "version": 3
   },
   "file_extension": ".py",
   "mimetype": "text/x-python",
   "name": "python",
   "nbconvert_exporter": "python",
   "pygments_lexer": "ipython3",
   "version": "3.12.3"
  }
 },
 "nbformat": 4,
 "nbformat_minor": 5
}
